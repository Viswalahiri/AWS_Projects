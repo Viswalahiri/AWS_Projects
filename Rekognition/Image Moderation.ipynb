{
 "cells": [
  {
   "cell_type": "code",
   "execution_count": 1,
   "metadata": {},
   "outputs": [],
   "source": [
    "import boto3\n",
    "import csv\n",
    "import json"
   ]
  },
  {
   "cell_type": "code",
   "execution_count": 2,
   "metadata": {},
   "outputs": [],
   "source": [
    "#Using Credentials\n",
    "with open('credentials.csv','r') as input:\n",
    "    next(input)\n",
    "    reader = csv.reader(input)\n",
    "    for line in reader:\n",
    "        access_key_id = line[2]\n",
    "        secret_access_key = line[3]"
   ]
  },
  {
   "cell_type": "code",
   "execution_count": 3,
   "metadata": {},
   "outputs": [],
   "source": [
    "#initializing client\n",
    "client = boto3.client('rekognition',\n",
    "                      aws_access_key_id = access_key_id,\n",
    "                      aws_secret_access_key = secret_access_key,\n",
    "                      region_name='ap-south-1')"
   ]
  },
  {
   "cell_type": "code",
   "execution_count": 4,
   "metadata": {},
   "outputs": [],
   "source": [
    "#Do this for each photo that is taken from the user's app that is updated to the server.\n",
    "#images should be in jpg or png format\n",
    "def moderation(photo):\n",
    "    with open(photo, 'rb') as source_image:\n",
    "        source_bytes = source_image.read()\n",
    "\n",
    "    #Upload through imageBytes.\n",
    "\n",
    "    #response is not limited.\n",
    "    response = client.detect_moderation_labels(Image = {'Bytes': source_bytes,})\n",
    "\n",
    "    print(json.dumps(response, indent=2))"
   ]
  },
  {
   "cell_type": "code",
   "execution_count": 5,
   "metadata": {},
   "outputs": [
    {
     "name": "stdout",
     "output_type": "stream",
     "text": [
      "{\n",
      "  \"ModerationLabels\": [],\n",
      "  \"ModerationModelVersion\": \"3.0\",\n",
      "  \"ResponseMetadata\": {\n",
      "    \"RequestId\": \"4d555433-8b3f-4cff-a115-f52273a343db\",\n",
      "    \"HTTPStatusCode\": 200,\n",
      "    \"HTTPHeaders\": {\n",
      "      \"content-type\": \"application/x-amz-json-1.1\",\n",
      "      \"date\": \"Tue, 04 Feb 2020 11:52:08 GMT\",\n",
      "      \"x-amzn-requestid\": \"4d555433-8b3f-4cff-a115-f52273a343db\",\n",
      "      \"content-length\": \"54\",\n",
      "      \"connection\": \"keep-alive\"\n",
      "    },\n",
      "    \"RetryAttempts\": 0\n",
      "  }\n",
      "}\n"
     ]
    }
   ],
   "source": [
    "moderation('mountain_man.jpg')\n",
    "# No output means that the photo has no need for moderation."
   ]
  },
  {
   "cell_type": "code",
   "execution_count": 6,
   "metadata": {},
   "outputs": [
    {
     "name": "stdout",
     "output_type": "stream",
     "text": [
      "{\n",
      "  \"ModerationLabels\": [\n",
      "    {\n",
      "      \"Confidence\": 99.81729125976562,\n",
      "      \"Name\": \"Female Swimwear Or Underwear\",\n",
      "      \"ParentName\": \"Suggestive\"\n",
      "    },\n",
      "    {\n",
      "      \"Confidence\": 99.81729125976562,\n",
      "      \"Name\": \"Suggestive\",\n",
      "      \"ParentName\": \"\"\n",
      "    }\n",
      "  ],\n",
      "  \"ModerationModelVersion\": \"3.0\",\n",
      "  \"ResponseMetadata\": {\n",
      "    \"RequestId\": \"6c3783e1-24b2-4b3f-a64b-f9c2cdfdcb73\",\n",
      "    \"HTTPStatusCode\": 200,\n",
      "    \"HTTPHeaders\": {\n",
      "      \"content-type\": \"application/x-amz-json-1.1\",\n",
      "      \"date\": \"Tue, 04 Feb 2020 11:52:09 GMT\",\n",
      "      \"x-amzn-requestid\": \"6c3783e1-24b2-4b3f-a64b-f9c2cdfdcb73\",\n",
      "      \"content-length\": \"219\",\n",
      "      \"connection\": \"keep-alive\"\n",
      "    },\n",
      "    \"RetryAttempts\": 0\n",
      "  }\n",
      "}\n"
     ]
    }
   ],
   "source": [
    "moderation('beach_photo.jpg')"
   ]
  },
  {
   "cell_type": "code",
   "execution_count": 8,
   "metadata": {},
   "outputs": [
    {
     "name": "stdout",
     "output_type": "stream",
     "text": [
      "{\n",
      "  \"ModerationLabels\": [\n",
      "    {\n",
      "      \"Confidence\": 96.98844909667969,\n",
      "      \"Name\": \"Weapon Violence\",\n",
      "      \"ParentName\": \"Violence\"\n",
      "    },\n",
      "    {\n",
      "      \"Confidence\": 96.98844909667969,\n",
      "      \"Name\": \"Violence\",\n",
      "      \"ParentName\": \"\"\n",
      "    }\n",
      "  ],\n",
      "  \"ModerationModelVersion\": \"3.0\",\n",
      "  \"ResponseMetadata\": {\n",
      "    \"RequestId\": \"02081978-8f88-4728-85bb-6f418375824e\",\n",
      "    \"HTTPStatusCode\": 200,\n",
      "    \"HTTPHeaders\": {\n",
      "      \"content-type\": \"application/x-amz-json-1.1\",\n",
      "      \"date\": \"Tue, 04 Feb 2020 11:52:57 GMT\",\n",
      "      \"x-amzn-requestid\": \"02081978-8f88-4728-85bb-6f418375824e\",\n",
      "      \"content-length\": \"202\",\n",
      "      \"connection\": \"keep-alive\"\n",
      "    },\n",
      "    \"RetryAttempts\": 0\n",
      "  }\n",
      "}\n"
     ]
    }
   ],
   "source": [
    "moderation('narcos_weapons.jpg')"
   ]
  }
 ],
 "metadata": {
  "kernelspec": {
   "display_name": "Python 3",
   "language": "python",
   "name": "python3"
  },
  "language_info": {
   "codemirror_mode": {
    "name": "ipython",
    "version": 3
   },
   "file_extension": ".py",
   "mimetype": "text/x-python",
   "name": "python",
   "nbconvert_exporter": "python",
   "pygments_lexer": "ipython3",
   "version": "3.7.3"
  }
 },
 "nbformat": 4,
 "nbformat_minor": 4
}
