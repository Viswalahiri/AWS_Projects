{
 "cells": [
  {
   "cell_type": "code",
   "execution_count": 1,
   "metadata": {},
   "outputs": [],
   "source": [
    "import boto3\n",
    "import csv"
   ]
  },
  {
   "cell_type": "code",
   "execution_count": 2,
   "metadata": {},
   "outputs": [],
   "source": [
    "#Using Credentials\n",
    "with open('credentials.csv','r') as input:\n",
    "    next(input)\n",
    "    reader = csv.reader(input)\n",
    "    for line in reader:\n",
    "        access_key_id = line[2]\n",
    "        secret_access_key = line[3]"
   ]
  },
  {
   "cell_type": "code",
   "execution_count": 3,
   "metadata": {},
   "outputs": [],
   "source": [
    "#initializing client\n",
    "client = boto3.client('rekognition',\n",
    "                      aws_access_key_id = access_key_id,\n",
    "                      aws_secret_access_key = secret_access_key,\n",
    "                      region_name='ap-south-1')"
   ]
  },
  {
   "cell_type": "code",
   "execution_count": 4,
   "metadata": {},
   "outputs": [],
   "source": [
    "#Do this for each photo that is taken from the user's app that is updated to the server.\n",
    "#images should be in jpg or png format\n",
    "def moderation(photo):\n",
    "    with open(photo, 'rb') as source_image:\n",
    "        source_bytes = source_image.read()\n",
    "\n",
    "    #Upload through imageBytes.\n",
    "\n",
    "    #response is not limited.\n",
    "    response = client.detect_moderation_labels(Image = {'Bytes': source_bytes,})\n",
    "\n",
    "    for i in range(len(response['ModerationLabels'])):\n",
    "        print(response['ModerationLabels'][i])\n"
   ]
  },
  {
   "cell_type": "code",
   "execution_count": 6,
   "metadata": {},
   "outputs": [],
   "source": [
    "moderation('rock_climbing_man.jpg')\n",
    "# No output means that the photo has no need for moderation."
   ]
  },
  {
   "cell_type": "code",
   "execution_count": 7,
   "metadata": {},
   "outputs": [
    {
     "name": "stdout",
     "output_type": "stream",
     "text": [
      "{'Confidence': 99.81729125976562, 'Name': 'Suggestive', 'ParentName': ''}\n",
      "{'Confidence': 99.81729125976562, 'Name': 'Female Swimwear Or Underwear', 'ParentName': 'Suggestive'}\n"
     ]
    }
   ],
   "source": [
    "moderation('beach_photo.jpg')"
   ]
  },
  {
   "cell_type": "code",
   "execution_count": 8,
   "metadata": {},
   "outputs": [
    {
     "name": "stdout",
     "output_type": "stream",
     "text": [
      "{'Confidence': 95.17033386230469, 'Name': 'Explicit Nudity', 'ParentName': ''}\n",
      "{'Confidence': 95.17033386230469, 'Name': 'Nudity', 'ParentName': 'Explicit Nudity'}\n"
     ]
    }
   ],
   "source": [
    "moderation('beach_photo_2.jpg')"
   ]
  },
  {
   "cell_type": "code",
   "execution_count": 9,
   "metadata": {},
   "outputs": [
    {
     "name": "stdout",
     "output_type": "stream",
     "text": [
      "{'Confidence': 96.98844909667969, 'Name': 'Weapon Violence', 'ParentName': 'Violence'}\n",
      "{'Confidence': 96.98844909667969, 'Name': 'Violence', 'ParentName': ''}\n"
     ]
    }
   ],
   "source": [
    "moderation('narcos.jpg')"
   ]
  }
 ],
 "metadata": {
  "kernelspec": {
   "display_name": "Python 3",
   "language": "python",
   "name": "python3"
  },
  "language_info": {
   "codemirror_mode": {
    "name": "ipython",
    "version": 3
   },
   "file_extension": ".py",
   "mimetype": "text/x-python",
   "name": "python",
   "nbconvert_exporter": "python",
   "pygments_lexer": "ipython3",
   "version": "3.7.3"
  }
 },
 "nbformat": 4,
 "nbformat_minor": 4
}
