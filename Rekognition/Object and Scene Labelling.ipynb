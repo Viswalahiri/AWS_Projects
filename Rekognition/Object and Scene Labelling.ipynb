{
 "cells": [
  {
   "cell_type": "code",
   "execution_count": 1,
   "metadata": {},
   "outputs": [],
   "source": [
    "import boto3\n",
    "import csv"
   ]
  },
  {
   "cell_type": "code",
   "execution_count": 2,
   "metadata": {},
   "outputs": [],
   "source": [
    "#Using Credentials\n",
    "with open('credentials.csv','r') as input:\n",
    "    next(input)\n",
    "    reader = csv.reader(input)\n",
    "    for line in reader:\n",
    "        access_key_id = line[2]\n",
    "        secret_access_key = line[3]"
   ]
  },
  {
   "cell_type": "code",
   "execution_count": 3,
   "metadata": {},
   "outputs": [],
   "source": [
    "#images should be in jpg or png format\n",
    "photo = 'mountain_man.jpg'"
   ]
  },
  {
   "cell_type": "code",
   "execution_count": 4,
   "metadata": {},
   "outputs": [],
   "source": [
    "#initializing client\n",
    "client = boto3.client('rekognition',\n",
    "                      aws_access_key_id = access_key_id,\n",
    "                      aws_secret_access_key = secret_access_key,\n",
    "                      region_name='ap-south-1')"
   ]
  },
  {
   "cell_type": "code",
   "execution_count": 5,
   "metadata": {},
   "outputs": [
    {
     "name": "stdout",
     "output_type": "stream",
     "text": [
      "{'Name': 'Outdoors', 'Confidence': 99.5821533203125, 'Instances': [], 'Parents': []}\n",
      "\n",
      "{'Name': 'Person', 'Confidence': 99.21919250488281, 'Instances': [{'BoundingBox': {'Width': 0.15037572383880615, 'Height': 0.3441178798675537, 'Left': 0.4268187880516052, 'Top': 0.18417443335056305}, 'Confidence': 99.21919250488281}, {'BoundingBox': {'Width': 0.5043157935142517, 'Height': 0.5374815464019775, 'Left': 0.47074800729751587, 'Top': 0.019738277420401573}, 'Confidence': 77.78156280517578}], 'Parents': []}\n",
      "\n",
      "{'Name': 'Human', 'Confidence': 99.21919250488281, 'Instances': [], 'Parents': []}\n",
      "\n",
      "{'Name': 'Sports', 'Confidence': 95.31767272949219, 'Instances': [], 'Parents': [{'Name': 'Person'}]}\n",
      "\n",
      "{'Name': 'Rock Climbing', 'Confidence': 95.31767272949219, 'Instances': [], 'Parents': [{'Name': 'Outdoors'}, {'Name': 'Person'}, {'Name': 'Climbing'}, {'Name': 'Sport'}]}\n",
      "\n",
      "{'Name': 'Climbing', 'Confidence': 95.31767272949219, 'Instances': [], 'Parents': [{'Name': 'Outdoors'}, {'Name': 'Person'}, {'Name': 'Sport'}]}\n",
      "\n",
      "{'Name': 'Sport', 'Confidence': 95.31767272949219, 'Instances': [], 'Parents': [{'Name': 'Person'}]}\n",
      "\n"
     ]
    }
   ],
   "source": [
    "#Do this for each photo that is taken from the user's app that is updated to the server.\n",
    "with open(photo, 'rb') as source_image:\n",
    "    source_bytes = source_image.read()\n",
    "\n",
    "#Upload through imageBytes.\n",
    "\n",
    "#response is not limited.\n",
    "response = client.detect_labels(Image = {'Bytes': source_bytes,})\n",
    "\n",
    "for i in range(len(response['Labels'])):\n",
    "    print(response['Labels'][i])\n",
    "    print()"
   ]
  },
  {
   "cell_type": "code",
   "execution_count": 6,
   "metadata": {},
   "outputs": [
    {
     "name": "stdout",
     "output_type": "stream",
     "text": [
      "{'Name': 'Outdoors', 'Confidence': 99.5821533203125, 'Instances': [], 'Parents': []}\n",
      "\n",
      "{'Name': 'Person', 'Confidence': 99.21919250488281, 'Instances': [{'BoundingBox': {'Width': 0.15037572383880615, 'Height': 0.3441178798675537, 'Left': 0.4268187880516052, 'Top': 0.18417443335056305}, 'Confidence': 99.21919250488281}, {'BoundingBox': {'Width': 0.5043157935142517, 'Height': 0.5374815464019775, 'Left': 0.47074800729751587, 'Top': 0.019738277420401573}, 'Confidence': 77.78156280517578}], 'Parents': []}\n",
      "\n",
      "{'Name': 'Rock Climbing', 'Confidence': 95.31767272949219, 'Instances': [], 'Parents': [{'Name': 'Outdoors'}, {'Name': 'Person'}]}\n",
      "\n"
     ]
    }
   ],
   "source": [
    "#Reponse is limited to 3 labels\n",
    "response = client.detect_labels(Image = {'Bytes': source_bytes,}, MaxLabels = 3)\n",
    "\n",
    "for i in range(len(response['Labels'])):\n",
    "    print(response['Labels'][i])\n",
    "    print()\n"
   ]
  },
  {
   "cell_type": "code",
   "execution_count": 7,
   "metadata": {},
   "outputs": [
    {
     "name": "stdout",
     "output_type": "stream",
     "text": [
      "{'Name': 'Outdoors', 'Confidence': 99.5821533203125, 'Instances': [], 'Parents': []}\n",
      "\n",
      "{'Name': 'Human', 'Confidence': 99.21919250488281, 'Instances': [], 'Parents': []}\n",
      "\n",
      "{'Name': 'Person', 'Confidence': 99.21919250488281, 'Instances': [{'BoundingBox': {'Width': 0.15037572383880615, 'Height': 0.3441178798675537, 'Left': 0.4268187880516052, 'Top': 0.18417443335056305}, 'Confidence': 99.21919250488281}, {'BoundingBox': {'Width': 0.5043157935142517, 'Height': 0.5374815464019775, 'Left': 0.47074800729751587, 'Top': 0.019738277420401573}, 'Confidence': 77.78156280517578}], 'Parents': []}\n",
      "\n"
     ]
    }
   ],
   "source": [
    "#Reponse is limited to 99% condifence \n",
    "response = client.detect_labels(Image = {'Bytes': source_bytes,}, MinConfidence=99)\n",
    "\n",
    "for i in range(len(response['Labels'])):\n",
    "    print(response['Labels'][i])\n",
    "    print()\n"
   ]
  },
  {
   "cell_type": "code",
   "execution_count": 8,
   "metadata": {},
   "outputs": [
    {
     "name": "stdout",
     "output_type": "stream",
     "text": [
      "{'Name': 'Outdoors', 'Confidence': 99.5821533203125, 'Instances': [], 'Parents': []}\n",
      "\n",
      "{'Name': 'Person', 'Confidence': 99.21919250488281, 'Instances': [{'BoundingBox': {'Width': 0.15037572383880615, 'Height': 0.3441178798675537, 'Left': 0.4268187880516052, 'Top': 0.18417443335056305}, 'Confidence': 99.21919250488281}, {'BoundingBox': {'Width': 0.5043157935142517, 'Height': 0.5374815464019775, 'Left': 0.47074800729751587, 'Top': 0.019738277420401573}, 'Confidence': 77.78156280517578}], 'Parents': []}\n",
      "\n",
      "{'Name': 'Human', 'Confidence': 99.21919250488281, 'Instances': [], 'Parents': []}\n",
      "\n",
      "{'Name': 'Sports', 'Confidence': 95.31765747070312, 'Instances': [], 'Parents': [{'Name': 'Person'}]}\n",
      "\n",
      "{'Name': 'Rock Climbing', 'Confidence': 95.31765747070312, 'Instances': [], 'Parents': [{'Name': 'Outdoors'}, {'Name': 'Person'}, {'Name': 'Climbing'}, {'Name': 'Sport'}]}\n",
      "\n",
      "{'Name': 'Climbing', 'Confidence': 95.31765747070312, 'Instances': [], 'Parents': [{'Name': 'Outdoors'}, {'Name': 'Person'}, {'Name': 'Sport'}]}\n",
      "\n",
      "{'Name': 'Sport', 'Confidence': 95.31765747070312, 'Instances': [], 'Parents': [{'Name': 'Person'}]}\n",
      "\n"
     ]
    }
   ],
   "source": [
    "#Photo is being retrieved from S3 using S3Object key-value-pair.\n",
    "\n",
    "#response is not limited\n",
    "response = client.detect_labels(Image = {'S3Object': {'Bucket':'viswalahiri-aws-ml-projects','Name':'mountain_man.jpg'}})\n",
    "\n",
    "for i in range(len(response['Labels'])):\n",
    "    print(response['Labels'][i])\n",
    "    print()"
   ]
  }
 ],
 "metadata": {
  "kernelspec": {
   "display_name": "Python 3",
   "language": "python",
   "name": "python3"
  },
  "language_info": {
   "codemirror_mode": {
    "name": "ipython",
    "version": 3
   },
   "file_extension": ".py",
   "mimetype": "text/x-python",
   "name": "python",
   "nbconvert_exporter": "python",
   "pygments_lexer": "ipython3",
   "version": "3.7.3"
  }
 },
 "nbformat": 4,
 "nbformat_minor": 4
}
